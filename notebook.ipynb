{
 "cells": [
  {
   "cell_type": "code",
   "execution_count": null,
   "id": "69d022a9",
   "metadata": {},
   "outputs": [],
   "source": [
    "from src import preprocess, similarity, recommend"
   ]
  },
  {
   "cell_type": "code",
   "execution_count": null,
   "id": "3f55645b",
   "metadata": {},
   "outputs": [],
   "source": [
    "# Load and prepare data\n",
    "ratings = preprocess.load_ratings(\"data/ratings.csv\")\n",
    "movies = preprocess.load_movies(\"data/movies.csv\")\n",
    "matrix = preprocess.create_user_item_matrix(ratings)"
   ]
  },
  {
   "cell_type": "code",
   "execution_count": null,
   "id": "1f5c93b6",
   "metadata": {},
   "outputs": [],
   "source": [
    "# Calculate similarities\n",
    "user_sim = similarity.compute_user_similarity(matrix)"
   ]
  },
  {
   "cell_type": "code",
   "execution_count": null,
   "id": "b6431771",
   "metadata": {},
   "outputs": [],
   "source": [
    "# Recommend for user 1\n",
    "recommended_movie_ids = recommend.user_based_recommendations(1, matrix, user_sim)"
   ]
  },
  {
   "cell_type": "code",
   "execution_count": null,
   "id": "4e2a3410",
   "metadata": {},
   "outputs": [],
   "source": [
    "# Show movie titles\n",
    "recommended_movies = movies[movies['movieId'].isin(recommended_movie_ids)]\n",
    "print(recommended_movies[['title']])"
   ]
  }
 ],
 "metadata": {
  "language_info": {
   "name": "python"
  }
 },
 "nbformat": 4,
 "nbformat_minor": 5
}
